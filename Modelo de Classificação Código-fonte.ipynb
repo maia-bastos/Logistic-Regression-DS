{
 "cells": [
  {
   "cell_type": "markdown",
   "id": "14cbc2af-200b-4c2d-aced-9c0e8dbdb5d9",
   "metadata": {},
   "source": [
    "### Importando Bases"
   ]
  },
  {
   "cell_type": "code",
   "execution_count": 781,
   "id": "9dfa95de-6389-4ac1-8f59-bc4f1ccea219",
   "metadata": {},
   "outputs": [],
   "source": [
    "import pandas as pd\n",
    "import numpy as np\n",
    "import seaborn as sns\n",
    "from sklearn.model_selection import train_test_split\n",
    "from sklearn.linear_model import LogisticRegression"
   ]
  },
  {
   "cell_type": "markdown",
   "id": "5b6a92d3-cc61-4044-850b-fabffd3ebf8e",
   "metadata": {},
   "source": [
    "### 1. Análise Exploratória de Dados"
   ]
  },
  {
   "cell_type": "markdown",
   "id": "bd51eb9c-f0ca-493e-8d9f-4ffe5db5b853",
   "metadata": {},
   "source": [
    "- Verificar a distribuição das variáveis (idade, renda, tempo no site, etc.).\n",
    "- Explorar possíveis relações entre as variáveis independentes e a variável alvo\n",
    "(Compra).\n",
    "- Identificar valores ausentes ou inconsistências nos dados."
   ]
  },
  {
   "cell_type": "code",
   "execution_count": 785,
   "id": "64f1ebec-f9e8-4e8a-b20d-82f3d5b3f13e",
   "metadata": {
    "scrolled": true
   },
   "outputs": [
    {
     "data": {
      "text/html": [
       "<div>\n",
       "<style scoped>\n",
       "    .dataframe tbody tr th:only-of-type {\n",
       "        vertical-align: middle;\n",
       "    }\n",
       "\n",
       "    .dataframe tbody tr th {\n",
       "        vertical-align: top;\n",
       "    }\n",
       "\n",
       "    .dataframe thead th {\n",
       "        text-align: right;\n",
       "    }\n",
       "</style>\n",
       "<table border=\"1\" class=\"dataframe\">\n",
       "  <thead>\n",
       "    <tr style=\"text-align: right;\">\n",
       "      <th></th>\n",
       "      <th>Idade</th>\n",
       "      <th>Renda Anual (em $)</th>\n",
       "      <th>Gênero</th>\n",
       "      <th>Tempo no Site (min)</th>\n",
       "      <th>Anúncio Clicado</th>\n",
       "      <th>Compra (0 ou 1)</th>\n",
       "    </tr>\n",
       "  </thead>\n",
       "  <tbody>\n",
       "    <tr>\n",
       "      <th>0</th>\n",
       "      <td>29.0</td>\n",
       "      <td>30000.0</td>\n",
       "      <td>Feminino</td>\n",
       "      <td>5.741706</td>\n",
       "      <td>Não</td>\n",
       "      <td>0</td>\n",
       "    </tr>\n",
       "    <tr>\n",
       "      <th>1</th>\n",
       "      <td>58.0</td>\n",
       "      <td>50000.0</td>\n",
       "      <td>Feminino</td>\n",
       "      <td>21.885505</td>\n",
       "      <td>Sim</td>\n",
       "      <td>0</td>\n",
       "    </tr>\n",
       "    <tr>\n",
       "      <th>2</th>\n",
       "      <td>50.0</td>\n",
       "      <td>70000.0</td>\n",
       "      <td>Feminino</td>\n",
       "      <td>6.121339</td>\n",
       "      <td>Não</td>\n",
       "      <td>1</td>\n",
       "    </tr>\n",
       "    <tr>\n",
       "      <th>3</th>\n",
       "      <td>21.0</td>\n",
       "      <td>100000.0</td>\n",
       "      <td>Feminino</td>\n",
       "      <td>16.264925</td>\n",
       "      <td>Não</td>\n",
       "      <td>0</td>\n",
       "    </tr>\n",
       "    <tr>\n",
       "      <th>4</th>\n",
       "      <td>59.0</td>\n",
       "      <td>50000.0</td>\n",
       "      <td>Feminino</td>\n",
       "      <td>28.235667</td>\n",
       "      <td>Sim</td>\n",
       "      <td>1</td>\n",
       "    </tr>\n",
       "    <tr>\n",
       "      <th>...</th>\n",
       "      <td>...</td>\n",
       "      <td>...</td>\n",
       "      <td>...</td>\n",
       "      <td>...</td>\n",
       "      <td>...</td>\n",
       "      <td>...</td>\n",
       "    </tr>\n",
       "    <tr>\n",
       "      <th>195</th>\n",
       "      <td>19.0</td>\n",
       "      <td>30000.0</td>\n",
       "      <td>Masculino</td>\n",
       "      <td>29.390255</td>\n",
       "      <td>NaN</td>\n",
       "      <td>1</td>\n",
       "    </tr>\n",
       "    <tr>\n",
       "      <th>196</th>\n",
       "      <td>NaN</td>\n",
       "      <td>50000.0</td>\n",
       "      <td>Feminino</td>\n",
       "      <td>21.024302</td>\n",
       "      <td>Sim</td>\n",
       "      <td>0</td>\n",
       "    </tr>\n",
       "    <tr>\n",
       "      <th>197</th>\n",
       "      <td>54.0</td>\n",
       "      <td>30000.0</td>\n",
       "      <td>Feminino</td>\n",
       "      <td>25.562014</td>\n",
       "      <td>Não</td>\n",
       "      <td>1</td>\n",
       "    </tr>\n",
       "    <tr>\n",
       "      <th>198</th>\n",
       "      <td>22.0</td>\n",
       "      <td>50000.0</td>\n",
       "      <td>NaN</td>\n",
       "      <td>8.313117</td>\n",
       "      <td>Não</td>\n",
       "      <td>0</td>\n",
       "    </tr>\n",
       "    <tr>\n",
       "      <th>199</th>\n",
       "      <td>18.0</td>\n",
       "      <td>50000.0</td>\n",
       "      <td>Masculino</td>\n",
       "      <td>26.550362</td>\n",
       "      <td>Não</td>\n",
       "      <td>0</td>\n",
       "    </tr>\n",
       "  </tbody>\n",
       "</table>\n",
       "<p>200 rows × 6 columns</p>\n",
       "</div>"
      ],
      "text/plain": [
       "     Idade  Renda Anual (em $)     Gênero  Tempo no Site (min)  \\\n",
       "0     29.0             30000.0   Feminino             5.741706   \n",
       "1     58.0             50000.0   Feminino            21.885505   \n",
       "2     50.0             70000.0   Feminino             6.121339   \n",
       "3     21.0            100000.0   Feminino            16.264925   \n",
       "4     59.0             50000.0   Feminino            28.235667   \n",
       "..     ...                 ...        ...                  ...   \n",
       "195   19.0             30000.0  Masculino            29.390255   \n",
       "196    NaN             50000.0   Feminino            21.024302   \n",
       "197   54.0             30000.0   Feminino            25.562014   \n",
       "198   22.0             50000.0        NaN             8.313117   \n",
       "199   18.0             50000.0  Masculino            26.550362   \n",
       "\n",
       "    Anúncio Clicado  Compra (0 ou 1)  \n",
       "0               Não                0  \n",
       "1               Sim                0  \n",
       "2               Não                1  \n",
       "3               Não                0  \n",
       "4               Sim                1  \n",
       "..              ...              ...  \n",
       "195             NaN                1  \n",
       "196             Sim                0  \n",
       "197             Não                1  \n",
       "198             Não                0  \n",
       "199             Não                0  \n",
       "\n",
       "[200 rows x 6 columns]"
      ]
     },
     "metadata": {},
     "output_type": "display_data"
    },
    {
     "name": "stdout",
     "output_type": "stream",
     "text": [
      "<class 'pandas.core.frame.DataFrame'>\n",
      "RangeIndex: 200 entries, 0 to 199\n",
      "Data columns (total 6 columns):\n",
      " #   Column               Non-Null Count  Dtype  \n",
      "---  ------               --------------  -----  \n",
      " 0   Idade                190 non-null    float64\n",
      " 1   Renda Anual (em $)   189 non-null    float64\n",
      " 2   Gênero               193 non-null    object \n",
      " 3   Tempo no Site (min)  200 non-null    float64\n",
      " 4   Anúncio Clicado      190 non-null    object \n",
      " 5   Compra (0 ou 1)      200 non-null    int64  \n",
      "dtypes: float64(3), int64(1), object(2)\n",
      "memory usage: 9.5+ KB\n"
     ]
    },
    {
     "data": {
      "text/plain": [
       "None"
      ]
     },
     "metadata": {},
     "output_type": "display_data"
    }
   ],
   "source": [
    "dataset = pd.read_csv(r'C:\\Users\\Lais\\Downloads\\VExpenses Teste Técnico\\Dataset.csv')\n",
    "display(dataset)\n",
    "display(dataset.info())"
   ]
  },
  {
   "cell_type": "code",
   "execution_count": 786,
   "id": "95ea8223-99d2-46e5-ab15-8255758ca09d",
   "metadata": {},
   "outputs": [
    {
     "data": {
      "text/html": [
       "<div>\n",
       "<style scoped>\n",
       "    .dataframe tbody tr th:only-of-type {\n",
       "        vertical-align: middle;\n",
       "    }\n",
       "\n",
       "    .dataframe tbody tr th {\n",
       "        vertical-align: top;\n",
       "    }\n",
       "\n",
       "    .dataframe thead th {\n",
       "        text-align: right;\n",
       "    }\n",
       "</style>\n",
       "<table border=\"1\" class=\"dataframe\">\n",
       "  <thead>\n",
       "    <tr style=\"text-align: right;\">\n",
       "      <th></th>\n",
       "      <th>Idade</th>\n",
       "      <th>Renda Anual (em $)</th>\n",
       "      <th>Gênero</th>\n",
       "      <th>Tempo no Site (min)</th>\n",
       "      <th>Anúncio Clicado</th>\n",
       "      <th>Compra (0 ou 1)</th>\n",
       "    </tr>\n",
       "  </thead>\n",
       "  <tbody>\n",
       "    <tr>\n",
       "      <th>2</th>\n",
       "      <td>50.0</td>\n",
       "      <td>70000.0</td>\n",
       "      <td>Feminino</td>\n",
       "      <td>6.121339</td>\n",
       "      <td>Não</td>\n",
       "      <td>1</td>\n",
       "    </tr>\n",
       "    <tr>\n",
       "      <th>4</th>\n",
       "      <td>59.0</td>\n",
       "      <td>50000.0</td>\n",
       "      <td>Feminino</td>\n",
       "      <td>28.235667</td>\n",
       "      <td>Sim</td>\n",
       "      <td>1</td>\n",
       "    </tr>\n",
       "    <tr>\n",
       "      <th>5</th>\n",
       "      <td>24.0</td>\n",
       "      <td>70000.0</td>\n",
       "      <td>Feminino</td>\n",
       "      <td>9.130098</td>\n",
       "      <td>Sim</td>\n",
       "      <td>1</td>\n",
       "    </tr>\n",
       "    <tr>\n",
       "      <th>6</th>\n",
       "      <td>39.0</td>\n",
       "      <td>100000.0</td>\n",
       "      <td>Feminino</td>\n",
       "      <td>14.746809</td>\n",
       "      <td>Sim</td>\n",
       "      <td>1</td>\n",
       "    </tr>\n",
       "    <tr>\n",
       "      <th>8</th>\n",
       "      <td>34.0</td>\n",
       "      <td>30000.0</td>\n",
       "      <td>Masculino</td>\n",
       "      <td>27.056464</td>\n",
       "      <td>Sim</td>\n",
       "      <td>1</td>\n",
       "    </tr>\n",
       "    <tr>\n",
       "      <th>...</th>\n",
       "      <td>...</td>\n",
       "      <td>...</td>\n",
       "      <td>...</td>\n",
       "      <td>...</td>\n",
       "      <td>...</td>\n",
       "      <td>...</td>\n",
       "    </tr>\n",
       "    <tr>\n",
       "      <th>184</th>\n",
       "      <td>58.0</td>\n",
       "      <td>50000.0</td>\n",
       "      <td>Feminino</td>\n",
       "      <td>14.515582</td>\n",
       "      <td>Sim</td>\n",
       "      <td>1</td>\n",
       "    </tr>\n",
       "    <tr>\n",
       "      <th>187</th>\n",
       "      <td>42.0</td>\n",
       "      <td>50000.0</td>\n",
       "      <td>Feminino</td>\n",
       "      <td>25.148135</td>\n",
       "      <td>NaN</td>\n",
       "      <td>1</td>\n",
       "    </tr>\n",
       "    <tr>\n",
       "      <th>188</th>\n",
       "      <td>37.0</td>\n",
       "      <td>50000.0</td>\n",
       "      <td>Masculino</td>\n",
       "      <td>24.750761</td>\n",
       "      <td>Não</td>\n",
       "      <td>1</td>\n",
       "    </tr>\n",
       "    <tr>\n",
       "      <th>195</th>\n",
       "      <td>19.0</td>\n",
       "      <td>30000.0</td>\n",
       "      <td>Masculino</td>\n",
       "      <td>29.390255</td>\n",
       "      <td>NaN</td>\n",
       "      <td>1</td>\n",
       "    </tr>\n",
       "    <tr>\n",
       "      <th>197</th>\n",
       "      <td>54.0</td>\n",
       "      <td>30000.0</td>\n",
       "      <td>Feminino</td>\n",
       "      <td>25.562014</td>\n",
       "      <td>Não</td>\n",
       "      <td>1</td>\n",
       "    </tr>\n",
       "  </tbody>\n",
       "</table>\n",
       "<p>66 rows × 6 columns</p>\n",
       "</div>"
      ],
      "text/plain": [
       "     Idade  Renda Anual (em $)     Gênero  Tempo no Site (min)  \\\n",
       "2     50.0             70000.0   Feminino             6.121339   \n",
       "4     59.0             50000.0   Feminino            28.235667   \n",
       "5     24.0             70000.0   Feminino             9.130098   \n",
       "6     39.0            100000.0   Feminino            14.746809   \n",
       "8     34.0             30000.0  Masculino            27.056464   \n",
       "..     ...                 ...        ...                  ...   \n",
       "184   58.0             50000.0   Feminino            14.515582   \n",
       "187   42.0             50000.0   Feminino            25.148135   \n",
       "188   37.0             50000.0  Masculino            24.750761   \n",
       "195   19.0             30000.0  Masculino            29.390255   \n",
       "197   54.0             30000.0   Feminino            25.562014   \n",
       "\n",
       "    Anúncio Clicado  Compra (0 ou 1)  \n",
       "2               Não                1  \n",
       "4               Sim                1  \n",
       "5               Sim                1  \n",
       "6               Sim                1  \n",
       "8               Sim                1  \n",
       "..              ...              ...  \n",
       "184             Sim                1  \n",
       "187             NaN                1  \n",
       "188             Não                1  \n",
       "195             NaN                1  \n",
       "197             Não                1  \n",
       "\n",
       "[66 rows x 6 columns]"
      ]
     },
     "metadata": {},
     "output_type": "display_data"
    }
   ],
   "source": [
    "vendas_df = dataset[dataset['Compra (0 ou 1)'] == 1] # Dataset com apenas os clientes que compraram\n",
    "display(vendas_df)"
   ]
  },
  {
   "cell_type": "code",
   "execution_count": 787,
   "id": "b711743c-0bac-46a6-bf41-163077fa62b7",
   "metadata": {},
   "outputs": [
    {
     "name": "stdout",
     "output_type": "stream",
     "text": [
      "Clientes de 19.0 até 59.0 anos realizaram uma compra no site.\n",
      "A média da renda anual dos clientes que compraram no site foi de: R$56613.0\n"
     ]
    }
   ],
   "source": [
    "print('Clientes de %s até %s anos realizaram uma compra no site.' % (vendas_df.Idade.min(), vendas_df.Idade.max()))\n",
    "print(f'A média da renda anual dos clientes que compraram no site foi de: R${vendas_df['Renda Anual (em $)'].mean().round()}')"
   ]
  },
  {
   "cell_type": "code",
   "execution_count": 912,
   "id": "067f46c2-daf8-4ab1-b028-33d7df3a2d1c",
   "metadata": {},
   "outputs": [
    {
     "data": {
      "text/html": [
       "<div>\n",
       "<style scoped>\n",
       "    .dataframe tbody tr th:only-of-type {\n",
       "        vertical-align: middle;\n",
       "    }\n",
       "\n",
       "    .dataframe tbody tr th {\n",
       "        vertical-align: top;\n",
       "    }\n",
       "\n",
       "    .dataframe thead th {\n",
       "        text-align: right;\n",
       "    }\n",
       "</style>\n",
       "<table border=\"1\" class=\"dataframe\">\n",
       "  <thead>\n",
       "    <tr style=\"text-align: right;\">\n",
       "      <th></th>\n",
       "      <th>Frequência</th>\n",
       "      <th>Porcentagem (%)</th>\n",
       "    </tr>\n",
       "    <tr>\n",
       "      <th>Anúncio Clicado</th>\n",
       "      <th></th>\n",
       "      <th></th>\n",
       "    </tr>\n",
       "  </thead>\n",
       "  <tbody>\n",
       "    <tr>\n",
       "      <th>Sim</th>\n",
       "      <td>39</td>\n",
       "      <td>66.1</td>\n",
       "    </tr>\n",
       "    <tr>\n",
       "      <th>Não</th>\n",
       "      <td>20</td>\n",
       "      <td>33.9</td>\n",
       "    </tr>\n",
       "  </tbody>\n",
       "</table>\n",
       "</div>"
      ],
      "text/plain": [
       "                 Frequência  Porcentagem (%)\n",
       "Anúncio Clicado                             \n",
       "Sim                      39             66.1\n",
       "Não                      20             33.9"
      ]
     },
     "metadata": {},
     "output_type": "display_data"
    },
    {
     "name": "stdout",
     "output_type": "stream",
     "text": [
      "Dos clientes que compraram, 66.1% clicaram no anúncio\n"
     ]
    },
    {
     "data": {
      "image/png": "[encoded data removed]",
      "text/plain": [
       "<Figure size 640x480 with 1 Axes>"
      ]
     },
     "metadata": {},
     "output_type": "display_data"
    }
   ],
   "source": [
    "frequencia_anuncio = vendas_df['Anúncio Clicado'].value_counts()\n",
    "percentual_anuncio = round(vendas_df['Anúncio Clicado'].value_counts(normalize = True) * 100, 1)\n",
    "dist_freq_qualitativas_anuncio = pd.DataFrame({'Frequência': frequencia_anuncio, 'Porcentagem (%)': percentual_anuncio})\n",
    "dist_freq_qualitativas_anuncio['Frequência'].plot.bar()\n",
    "display(dist_freq_qualitativas_anuncio)\n",
    "print(\"Dos clientes que compraram, {}% clicaram no anúncio\".format(percentual_anuncio['Sim']))"
   ]
  },
  {
   "cell_type": "code",
   "execution_count": 790,
   "id": "bdca8194-4f10-4b49-a344-ee5969898487",
   "metadata": {},
   "outputs": [
    {
     "name": "stdout",
     "output_type": "stream",
     "text": [
      "51.6% dos compradores são do gênero Masculino. 48.4% dos compradores são do gênero Feminino.\n"
     ]
    },
    {
     "data": {
      "text/html": [
       "<div>\n",
       "<style scoped>\n",
       "    .dataframe tbody tr th:only-of-type {\n",
       "        vertical-align: middle;\n",
       "    }\n",
       "\n",
       "    .dataframe tbody tr th {\n",
       "        vertical-align: top;\n",
       "    }\n",
       "\n",
       "    .dataframe thead th {\n",
       "        text-align: right;\n",
       "    }\n",
       "</style>\n",
       "<table border=\"1\" class=\"dataframe\">\n",
       "  <thead>\n",
       "    <tr style=\"text-align: right;\">\n",
       "      <th></th>\n",
       "      <th>Frequência</th>\n",
       "      <th>Porcentagem (%)</th>\n",
       "    </tr>\n",
       "    <tr>\n",
       "      <th>Gênero</th>\n",
       "      <th></th>\n",
       "      <th></th>\n",
       "    </tr>\n",
       "  </thead>\n",
       "  <tbody>\n",
       "    <tr>\n",
       "      <th>Masculino</th>\n",
       "      <td>33</td>\n",
       "      <td>51.6</td>\n",
       "    </tr>\n",
       "    <tr>\n",
       "      <th>Feminino</th>\n",
       "      <td>31</td>\n",
       "      <td>48.4</td>\n",
       "    </tr>\n",
       "  </tbody>\n",
       "</table>\n",
       "</div>"
      ],
      "text/plain": [
       "           Frequência  Porcentagem (%)\n",
       "Gênero                                \n",
       "Masculino          33             51.6\n",
       "Feminino           31             48.4"
      ]
     },
     "metadata": {},
     "output_type": "display_data"
    }
   ],
   "source": [
    "frequencia_genero = vendas_df['Gênero'].value_counts()\n",
    "percentual_genero = round(vendas_df['Gênero'].value_counts(normalize = True) * 100, 1)\n",
    "dist_freq_qualitativas_gen = pd.DataFrame({'Frequência': frequencia_genero, 'Porcentagem (%)': percentual_genero})\n",
    "print(f\"{percentual_genero['Masculino']}% dos compradores são do gênero Masculino. {percentual_genero['Feminino']}% dos compradores são do gênero Feminino.\")\n",
    "display(dist_freq_qualitativas_gen)"
   ]
  },
  {
   "cell_type": "code",
   "execution_count": 793,
   "id": "ed66056c-b70b-4aba-9178-d98c31d60702",
   "metadata": {},
   "outputs": [
    {
     "name": "stdout",
     "output_type": "stream",
     "text": [
      "Os clientes que possuem renda média anual de R$30.000 representam 35.5% dos compradores\n"
     ]
    },
    {
     "data": {
      "text/html": [
       "<div>\n",
       "<style scoped>\n",
       "    .dataframe tbody tr th:only-of-type {\n",
       "        vertical-align: middle;\n",
       "    }\n",
       "\n",
       "    .dataframe tbody tr th {\n",
       "        vertical-align: top;\n",
       "    }\n",
       "\n",
       "    .dataframe thead th {\n",
       "        text-align: right;\n",
       "    }\n",
       "</style>\n",
       "<table border=\"1\" class=\"dataframe\">\n",
       "  <thead>\n",
       "    <tr style=\"text-align: right;\">\n",
       "      <th></th>\n",
       "      <th>Frequência</th>\n",
       "      <th>Porcentagem (%)</th>\n",
       "    </tr>\n",
       "    <tr>\n",
       "      <th>Renda Anual (em $)</th>\n",
       "      <th></th>\n",
       "      <th></th>\n",
       "    </tr>\n",
       "  </thead>\n",
       "  <tbody>\n",
       "    <tr>\n",
       "      <th>30000.0</th>\n",
       "      <td>22</td>\n",
       "      <td>35.5</td>\n",
       "    </tr>\n",
       "    <tr>\n",
       "      <th>70000.0</th>\n",
       "      <td>15</td>\n",
       "      <td>24.2</td>\n",
       "    </tr>\n",
       "    <tr>\n",
       "      <th>50000.0</th>\n",
       "      <td>14</td>\n",
       "      <td>22.6</td>\n",
       "    </tr>\n",
       "    <tr>\n",
       "      <th>100000.0</th>\n",
       "      <td>11</td>\n",
       "      <td>17.7</td>\n",
       "    </tr>\n",
       "  </tbody>\n",
       "</table>\n",
       "</div>"
      ],
      "text/plain": [
       "                    Frequência  Porcentagem (%)\n",
       "Renda Anual (em $)                             \n",
       "30000.0                     22             35.5\n",
       "70000.0                     15             24.2\n",
       "50000.0                     14             22.6\n",
       "100000.0                    11             17.7"
      ]
     },
     "metadata": {},
     "output_type": "display_data"
    },
    {
     "data": {
      "text/plain": [
       "<Axes: xlabel='Renda Anual (em $)'>"
      ]
     },
     "execution_count": 793,
     "metadata": {},
     "output_type": "execute_result"
    },
    {
     "data": {
      "image/png": "[encoded data removed]",
      "text/plain": [
       "<Figure size 640x480 with 1 Axes>"
      ]
     },
     "metadata": {},
     "output_type": "display_data"
    }
   ],
   "source": [
    "frequencia_renda = vendas_df['Renda Anual (em $)'].value_counts()\n",
    "percentual_renda = round(vendas_df['Renda Anual (em $)'].value_counts(normalize = True) * 100, 1)\n",
    "dist_freq_qualitativas_renda = pd.DataFrame({'Frequência': frequencia_renda, 'Porcentagem (%)': percentual_renda})\n",
    "print('Os clientes que possuem renda média anual de R$30.000 representam 35.5% dos compradores')\n",
    "display(dist_freq_qualitativas_renda)\n",
    "dist_freq_qualitativas_renda.plot.bar()"
   ]
  },
  {
   "cell_type": "code",
   "execution_count": 796,
   "id": "3bbe238c-0edf-4193-8fbd-1e72d30d4263",
   "metadata": {},
   "outputs": [
    {
     "name": "stdout",
     "output_type": "stream",
     "text": [
      "A média de clientes que não clicaram no anúncio e compraram o produto é maior do que a média de clientes que clicaram e compraram.\n"
     ]
    },
    {
     "data": {
      "text/html": [
       "<div>\n",
       "<style scoped>\n",
       "    .dataframe tbody tr th:only-of-type {\n",
       "        vertical-align: middle;\n",
       "    }\n",
       "\n",
       "    .dataframe tbody tr th {\n",
       "        vertical-align: top;\n",
       "    }\n",
       "\n",
       "    .dataframe thead th {\n",
       "        text-align: right;\n",
       "    }\n",
       "</style>\n",
       "<table border=\"1\" class=\"dataframe\">\n",
       "  <thead>\n",
       "    <tr style=\"text-align: right;\">\n",
       "      <th>Anúncio Clicado</th>\n",
       "      <th>Não</th>\n",
       "      <th>Sim</th>\n",
       "    </tr>\n",
       "    <tr>\n",
       "      <th>Compra (0 ou 1)</th>\n",
       "      <th></th>\n",
       "      <th></th>\n",
       "    </tr>\n",
       "  </thead>\n",
       "  <tbody>\n",
       "    <tr>\n",
       "      <th>Não</th>\n",
       "      <td>17.244394</td>\n",
       "      <td>16.148073</td>\n",
       "    </tr>\n",
       "    <tr>\n",
       "      <th>Sim</th>\n",
       "      <td>20.810194</td>\n",
       "      <td>18.208315</td>\n",
       "    </tr>\n",
       "  </tbody>\n",
       "</table>\n",
       "</div>"
      ],
      "text/plain": [
       "Anúncio Clicado        Não        Sim\n",
       "Compra (0 ou 1)                      \n",
       "Não              17.244394  16.148073\n",
       "Sim              20.810194  18.208315"
      ]
     },
     "metadata": {},
     "output_type": "display_data"
    },
    {
     "data": {
      "text/plain": [
       "<Axes: xlabel='Compra (0 ou 1)'>"
      ]
     },
     "execution_count": 796,
     "metadata": {},
     "output_type": "execute_result"
    },
    {
     "data": {
      "image/png": "[encoded data removed]",
      "text/plain": [
       "<Figure size 640x480 with 1 Axes>"
      ]
     },
     "metadata": {},
     "output_type": "display_data"
    }
   ],
   "source": [
    "example = pd.crosstab(dataset['Compra (0 ou 1)'], \n",
    "                      dataset['Anúncio Clicado'],\n",
    "                      aggfunc = 'mean',\n",
    "                      values = dataset['Tempo no Site (min)']\n",
    "            )\n",
    "example.rename(index=({0: 'Não', 1: 'Sim'}), inplace=True)\n",
    "print(\"Em média, as pessoas que gastaram mais minutos no site, compraram um imóvel.\")\n",
    "display(example)\n",
    "example.plot.bar()"
   ]
  },
  {
   "cell_type": "code",
   "execution_count": 797,
   "id": "86b4bd02-aeda-4f00-bd13-2ab699db46fc",
   "metadata": {
    "scrolled": true
   },
   "outputs": [
    {
     "data": {
      "text/plain": [
       "<Axes: xlabel='Idade', ylabel='Renda Anual (em $)'>"
      ]
     },
     "execution_count": 797,
     "metadata": {},
     "output_type": "execute_result"
    },
    {
     "data": {
      "image/png": "[encoded data removed]",
      "text/plain": [
       "<Figure size 640x480 with 1 Axes>"
      ]
     },
     "metadata": {},
     "output_type": "display_data"
    }
   ],
   "source": [
    "sns.boxplot(x='Idade', y='Renda Anual (em $)', hue='Gênero', data=vendas_df, orient='h')"
   ]
  },
  {
   "cell_type": "markdown",
   "id": "1e8b5d70-4db0-42a2-8812-50d091db6c6d",
   "metadata": {},
   "source": [
    "Vendas por Idade e Renda Anual"
   ]
  },
  {
   "cell_type": "code",
   "execution_count": 800,
   "id": "8fb1b736-5b08-4f6f-99f1-6eb038a4339a",
   "metadata": {},
   "outputs": [
    {
     "name": "stdout",
     "output_type": "stream",
     "text": [
      "Mulheres com renda média anual de R$70.000 representam uma porcentagem maior de compradores do que homens na mesma faixa\n"
     ]
    }
   ],
   "source": [
    "print('Mulheres com renda média anual de R$70.000 representam uma porcentagem maior de compradores do que homens na mesma faixa')"
   ]
  },
  {
   "cell_type": "markdown",
   "id": "205f16d8-e74a-4b41-b246-2d97f217d30a",
   "metadata": {},
   "source": [
    "### 2. Pré-processamento dos Dados"
   ]
  },
  {
   "cell_type": "markdown",
   "id": "f62a3f55-ef27-4d97-9e7e-e81fcebdb1c0",
   "metadata": {},
   "source": [
    "- Normalizar ou padronizar variáveis numéricas, se necessário.\n",
    "- Realizar codificação para variáveis categóricas, transformando-as em valores\n",
    "numéricos.\n",
    "- Dividir os dados em conjuntos de treino e teste."
   ]
  },
  {
   "cell_type": "code",
   "execution_count": 806,
   "id": "1f5cf759-4bf4-4e1d-866a-78cfa4c4e598",
   "metadata": {},
   "outputs": [],
   "source": [
    "dataset['Renda Anual (em $)'] = dataset['Renda Anual (em $)'].fillna(dataset['Renda Anual (em $)'].mean()).astype(int)\n",
    "dataset['Idade'] = dataset['Idade'].fillna(dataset['Idade'].mean()).astype(int)\n",
    "dataset['Tempo no Site (min)'] = dataset['Tempo no Site (min)'].astype(int)"
   ]
  },
  {
   "cell_type": "code",
   "execution_count": 808,
   "id": "86153b22-468c-4860-9b1a-25fc219504fc",
   "metadata": {},
   "outputs": [
    {
     "name": "stdout",
     "output_type": "stream",
     "text": [
      "<class 'pandas.core.frame.DataFrame'>\n",
      "RangeIndex: 200 entries, 0 to 199\n",
      "Data columns (total 6 columns):\n",
      " #   Column               Non-Null Count  Dtype \n",
      "---  ------               --------------  ----- \n",
      " 0   Idade                200 non-null    int32 \n",
      " 1   Renda Anual (em $)   200 non-null    int32 \n",
      " 2   Gênero               193 non-null    object\n",
      " 3   Tempo no Site (min)  200 non-null    int32 \n",
      " 4   Anúncio Clicado      190 non-null    object\n",
      " 5   Compra (0 ou 1)      200 non-null    int64 \n",
      "dtypes: int32(3), int64(1), object(2)\n",
      "memory usage: 7.2+ KB\n"
     ]
    }
   ],
   "source": [
    "dataset.info()"
   ]
  },
  {
   "cell_type": "code",
   "execution_count": 810,
   "id": "0497d761-3e54-4fa7-a8a3-3c67d453fd0d",
   "metadata": {},
   "outputs": [],
   "source": [
    "dataset = dataset.dropna(ignore_index=True)"
   ]
  },
  {
   "cell_type": "code",
   "execution_count": 812,
   "id": "8a8f1f26-caab-4862-8e7a-e6e4fa6dbd03",
   "metadata": {},
   "outputs": [
    {
     "name": "stderr",
     "output_type": "stream",
     "text": [
      "C:\\Users\\Lais\\AppData\\Local\\Temp\\ipykernel_2680\\955566154.py:1: FutureWarning: Downcasting behavior in `replace` is deprecated and will be removed in a future version. To retain the old behavior, explicitly call `result.infer_objects(copy=False)`. To opt-in to the future behavior, set `pd.set_option('future.no_silent_downcasting', True)`\n",
      "  dataset['Anúncio Clicado'] = dataset['Anúncio Clicado'].replace({'Não': 0, 'Sim': 1})\n",
      "C:\\Users\\Lais\\AppData\\Local\\Temp\\ipykernel_2680\\955566154.py:2: FutureWarning: Downcasting behavior in `replace` is deprecated and will be removed in a future version. To retain the old behavior, explicitly call `result.infer_objects(copy=False)`. To opt-in to the future behavior, set `pd.set_option('future.no_silent_downcasting', True)`\n",
      "  dataset['Gênero'] = dataset['Gênero'].replace({'Masculino': 0, 'Feminino': 1})\n"
     ]
    }
   ],
   "source": [
    "dataset['Anúncio Clicado'] = dataset['Anúncio Clicado'].replace({'Não': 0, 'Sim': 1})\n",
    "dataset['Gênero'] = dataset['Gênero'].replace({'Masculino': 0, 'Feminino': 1})"
   ]
  },
  {
   "cell_type": "code",
   "execution_count": 898,
   "id": "9f838d19-6368-46fa-9ea3-aa4ceb07524f",
   "metadata": {},
   "outputs": [],
   "source": [
    "y = dataset['Compra (0 ou 1)'].to_numpy()\n",
    "x = dataset[['Renda Anual (em $)', 'Gênero', 'Tempo no Site (min)', 'Anúncio Clicado']].to_numpy()"
   ]
  },
  {
   "cell_type": "code",
   "execution_count": 900,
   "id": "74b9783f-e6a1-4a47-b53f-2c56d4306324",
   "metadata": {},
   "outputs": [],
   "source": [
    "from sklearn import preprocessing\n",
    "scaler = preprocessing.StandardScaler().fit(x)\n",
    "x_scaled = scaler.transform(x)\n",
    "\n",
    "x_train, x_test, y_train, y_test = train_test_split(x_scaled, y, test_size = 0.25, random_state = 1)"
   ]
  },
  {
   "cell_type": "markdown",
   "id": "1864ec7b-6ff3-4198-86b5-cc5bb423541d",
   "metadata": {},
   "source": [
    "### 3. Construção do Modelo de Classificação"
   ]
  },
  {
   "cell_type": "markdown",
   "id": "c7966d92-0ace-4745-9be7-6c4a3bfd29a8",
   "metadata": {},
   "source": [
    "- Treinar um modelo simples de classificação (como Regressão Logística,\n",
    "Árvore de Decisão, ou Random Forest).\n",
    "- Avaliar o modelo utilizando métricas apropriadas"
   ]
  },
  {
   "cell_type": "code",
   "execution_count": 904,
   "id": "255f5f9b-762c-4ce5-af0e-cf37520adc0e",
   "metadata": {},
   "outputs": [
    {
     "data": {
      "text/plain": [
       "0.6861313868613139"
      ]
     },
     "execution_count": 904,
     "metadata": {},
     "output_type": "execute_result"
    }
   ],
   "source": [
    "reg = LogisticRegression().fit(x_train, y_train)\n",
    "pred_train = reg.predict(x_train)\n",
    "# reg.predict_proba(x_train)\n",
    "reg.score(x_train, y_train)"
   ]
  },
  {
   "cell_type": "code",
   "execution_count": 906,
   "id": "43226fdf-564f-4c01-ab21-704cce7f4e8d",
   "metadata": {},
   "outputs": [
    {
     "data": {
      "text/plain": [
       "0.717391304347826"
      ]
     },
     "execution_count": 906,
     "metadata": {},
     "output_type": "execute_result"
    }
   ],
   "source": [
    "reg2 = LogisticRegression().fit(x_test, y_test)\n",
    "pred_test = reg2.predict(x_test)\n",
    "reg2.score(x_test, y_test)"
   ]
  },
  {
   "cell_type": "code",
   "execution_count": 908,
   "id": "09ae86f7-b9cb-47ea-a63e-8989acb4de85",
   "metadata": {},
   "outputs": [
    {
     "data": {
      "text/plain": [
       "array([[ 0.37287954, -0.08343892,  0.71066603,  0.34126749]])"
      ]
     },
     "execution_count": 908,
     "metadata": {},
     "output_type": "execute_result"
    }
   ],
   "source": [
    "reg2.coef_"
   ]
  },
  {
   "cell_type": "code",
   "execution_count": 876,
   "id": "219345bb-2b30-4109-a0ce-030391f723e0",
   "metadata": {},
   "outputs": [
    {
     "name": "stdout",
     "output_type": "stream",
     "text": [
      "Acurácia Random Forest: 0.6739130434782609\n"
     ]
    }
   ],
   "source": [
    "from sklearn.ensemble import RandomForestClassifier\n",
    "\n",
    "modelo_rf = RandomForestClassifier()\n",
    "modelo_rf.fit(x_train, y_train)\n",
    "print(\"Acurácia Random Forest:\", modelo_rf.score(x_test, y_test))"
   ]
  },
  {
   "cell_type": "markdown",
   "id": "2ee8a36d-ec2c-41d2-bc98-a7d46294be9c",
   "metadata": {},
   "source": [
    "### 4. Interpretação dos Resultados"
   ]
  },
  {
   "cell_type": "markdown",
   "id": "1755c499-4c21-48d8-8c7d-5432a0698229",
   "metadata": {},
   "source": [
    "- Identificar quais variáveis mais influenciaram na decisão do modelo.\n",
    "- Explicar o desempenho do modelo e propor possíveis melhorias."
   ]
  },
  {
   "cell_type": "markdown",
   "id": "1e7cb139-2ca3-46f6-af23-06c650de0dab",
   "metadata": {},
   "source": [
    "O modelo teve uma acurácia de 71,74% nos testes, mostrando um bom desempenho em novos dados. A diferença para o treino (68,61%) indica que ele está generalizando bem.\n",
    "As variáveis que mais influenciaram a decisão do modelo foram \"Tempo no Site (min)\" - positivamente - e \"Gênero\" - negativamente.\n",
    "\n",
    "Para melhorar:\n",
    "\n",
    "- Validação cruzada.\n",
    "- Analisar outras métricas como Precisão e Recall.\n",
    "- Ajustar alguns hiperparâmetros.\n",
    "- Revisar as variáveis usadas no modelo.\n",
    "- No geral, o resultado é positivo, mas ainda dá para otimizar um pouco mais."
   ]
  }
 ],
 "metadata": {
  "kernelspec": {
   "display_name": "Python 3 (ipykernel)",
   "language": "python",
   "name": "python3"
  },
  "language_info": {
   "codemirror_mode": {
    "name": "ipython",
    "version": 3
   },
   "file_extension": ".py",
   "mimetype": "text/x-python",
   "name": "python",
   "nbconvert_exporter": "python",
   "pygments_lexer": "ipython3",
   "version": "3.12.7"
  }
 },
 "nbformat": 4,
 "nbformat_minor": 5
}
